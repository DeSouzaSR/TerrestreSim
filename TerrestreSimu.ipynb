{
 "cells": [
  {
   "cell_type": "markdown",
   "metadata": {},
   "source": [
    "Planetas terrestres num centário Jumping Jupiter\n",
    "=========================="
   ]
  },
  {
   "cell_type": "markdown",
   "metadata": {},
   "source": [
    "Configurações iniciais\n",
    "---------------------"
   ]
  },
  {
   "cell_type": "markdown",
   "metadata": {},
   "source": [
    "Importando os módulos necessários"
   ]
  },
  {
   "cell_type": "code",
   "execution_count": 1,
   "metadata": {
    "collapsed": true
   },
   "outputs": [],
   "source": [
    "import os\n",
    "import pandas as pd\n",
    "from glob import glob1\n",
    "import matplotlib.pyplot as plt\n",
    "import numpy as np"
   ]
  },
  {
   "cell_type": "markdown",
   "metadata": {},
   "source": [
    "Ajuste para que as fontes dos gráficos fiquem com rederização do tipo \"TeX\""
   ]
  },
  {
   "cell_type": "code",
   "execution_count": null,
   "metadata": {
    "collapsed": true
   },
   "outputs": [],
   "source": [
    "plt.rcParams[\"font.family\"] = \"serif\"\n",
    "plt.rcParams[\"font.size\"] = 10"
   ]
  },
  {
   "cell_type": "markdown",
   "metadata": {},
   "source": [
    "Parâmetros de entrada\n",
    "------------"
   ]
  },
  {
   "cell_type": "markdown",
   "metadata": {},
   "source": [
    "**Simulation_name**: Nome do prefixo para as simulações. Exemplo: \"simu\". O programa irá percorrer simu1, simu2, simu3, etc."
   ]
  },
  {
   "cell_type": "code",
   "execution_count": 4,
   "metadata": {
    "collapsed": false
   },
   "outputs": [],
   "source": [
    "Simulation_name = \"simu\""
   ]
  },
  {
   "cell_type": "markdown",
   "metadata": {},
   "source": [
    "**Last_lines**: Tempo para o cálculo da média. A unidade de tempo é o ano (yr). Refere-se ao tempo final, para se calcular a média dos últimos valores de tempo."
   ]
  },
  {
   "cell_type": "code",
   "execution_count": 6,
   "metadata": {
    "collapsed": false
   },
   "outputs": [],
   "source": [
    "Last_lines = 100"
   ]
  },
  {
   "cell_type": "markdown",
   "metadata": {},
   "source": [
    "**Objects**: Objetos de interesse na simulação.\n",
    "Cada objeto é marcado por um número. Valores negativos são os planetas valores positivos são as partículas teste. Normalmente são, -2 para Júpiter, -2, para Saturno, e assim por diante. Os respectivos valores de semieixo, excentricidade e inclinação devem ser alterados."
   ]
  },
  {
   "cell_type": "code",
   "execution_count": 8,
   "metadata": {
    "collapsed": false
   },
   "outputs": [],
   "source": [
    "Objects = [-2, -3, -4, -5]"
   ]
  },
  {
   "cell_type": "markdown",
   "metadata": {},
   "source": [
    "**Semi-axis**: Valores do semieixo, para os objetos de interesse são os valores atuais, colocados num lista, na mesma ordem em que são dados os planetas. A unidade é AU. "
   ]
  },
  {
   "cell_type": "code",
   "execution_count": 11,
   "metadata": {
    "collapsed": false
   },
   "outputs": [],
   "source": [
    "Semi_axis = [5, 9.5, 19, 30]"
   ]
  },
  {
   "cell_type": "markdown",
   "metadata": {},
   "source": [
    "**Eccentricity**: Valores da excentricidade, para os objetos de interesse. São os valores atuais, colocados num lista, na mesma ordem em que são dados os planetas."
   ]
  },
  {
   "cell_type": "code",
   "execution_count": 12,
   "metadata": {
    "collapsed": true
   },
   "outputs": [],
   "source": [
    "Eccentricity = [0.05, 0.06, 0.05, 0.009]"
   ]
  },
  {
   "cell_type": "markdown",
   "metadata": {},
   "source": [
    "**Inclination**: Valores da inclinação, para os objetos de interesse. São os valores atuais, colocados num lista, na mesma ordem em que são dados os planetas. Unidade [deg] "
   ]
  },
  {
   "cell_type": "code",
   "execution_count": null,
   "metadata": {
    "collapsed": true
   },
   "outputs": [],
   "source": [
    "Inclination: [1.303, 2.489, 0.773, 1.770]"
   ]
  },
  {
   "cell_type": "markdown",
   "metadata": {},
   "source": [
    "**Scale**: Definição da escala para o gráfico com os resultados de todas as simulações. Valores possĩvels são: linear, log"
   ]
  },
  {
   "cell_type": "code",
   "execution_count": null,
   "metadata": {
    "collapsed": true
   },
   "outputs": [],
   "source": [
    "Scale: linear"
   ]
  },
  {
   "cell_type": "markdown",
   "metadata": {},
   "source": [
    "**Obj_dif_ang**: Objetos para calcular a diferença entre ângulos, Omega ou omega."
   ]
  },
  {
   "cell_type": "code",
   "execution_count": null,
   "metadata": {
    "collapsed": true
   },
   "outputs": [],
   "source": [
    "Obj_dif_ang: [-2, -3]"
   ]
  },
  {
   "cell_type": "markdown",
   "metadata": {},
   "source": [
    "**Angle_dif**: Quais angulos serão usados para se fazer a diferença.\n",
    "\n",
    "Valores possíveis são:\n",
    "* capom - Longitude do nodo ascendente\n",
    "* omega - Argumento do periapse                          "
   ]
  },
  {
   "cell_type": "code",
   "execution_count": null,
   "metadata": {
    "collapsed": true
   },
   "outputs": [],
   "source": [
    "Angle_dif: capom"
   ]
  },
  {
   "cell_type": "markdown",
   "metadata": {},
   "source": [
    "Range_angle: Define se o gráfico com a diferença entre ângulos terá uma escala variando entre -180 e 180, ou de 0 a 360.\n",
    "\n",
    "As opções são:\n",
    "* 360 - \"0 - 360\"\n",
    "* 180 - \"-180 - 180\" "
   ]
  },
  {
   "cell_type": "code",
   "execution_count": null,
   "metadata": {
    "collapsed": true
   },
   "outputs": [],
   "source": [
    "Range_angle:        360"
   ]
  },
  {
   "cell_type": "markdown",
   "metadata": {},
   "source": [
    "**Simulation_dif_ang**: Simulação de interesse para plotar a diferença entre Omega com base na variação numérica após o prefixo: simu001, simu002, etc. Deve-se inserir as aspas."
   ]
  },
  {
   "cell_type": "code",
   "execution_count": null,
   "metadata": {
    "collapsed": true
   },
   "outputs": [],
   "source": [
    "Simulation_dif_ang: \"002\""
   ]
  },
  {
   "cell_type": "code",
   "execution_count": null,
   "metadata": {
    "collapsed": true
   },
   "outputs": [],
   "source": []
  }
 ],
 "metadata": {
  "kernelspec": {
   "display_name": "Python 3",
   "language": "python",
   "name": "python3"
  },
  "language_info": {
   "codemirror_mode": {
    "name": "ipython",
    "version": 3
   },
   "file_extension": ".py",
   "mimetype": "text/x-python",
   "name": "python",
   "nbconvert_exporter": "python",
   "pygments_lexer": "ipython3",
   "version": "3.4.3"
  }
 },
 "nbformat": 4,
 "nbformat_minor": 0
}
