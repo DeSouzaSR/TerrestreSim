{
 "cells": [
  {
   "cell_type": "markdown",
   "metadata": {},
   "source": [
    "Planetas terrestres num centário Jumping Jupiter\n",
    "=========================="
   ]
  },
  {
   "cell_type": "markdown",
   "metadata": {},
   "source": [
    "Configurações iniciais\n",
    "---------------------"
   ]
  },
  {
   "cell_type": "markdown",
   "metadata": {},
   "source": [
    "Importando os módulos necessários"
   ]
  },
  {
   "cell_type": "code",
   "execution_count": 11,
   "metadata": {
    "collapsed": true
   },
   "outputs": [],
   "source": [
    "import os\n",
    "import pandas as pd\n",
    "from glob import glob1\n",
    "import matplotlib.pyplot as plt\n",
    "import numpy as np"
   ]
  },
  {
   "cell_type": "markdown",
   "metadata": {},
   "source": [
    "Ajuste para que as fontes dos gráficos fiquem com rederização do tipo \"TeX\""
   ]
  },
  {
   "cell_type": "code",
   "execution_count": 41,
   "metadata": {
    "collapsed": true
   },
   "outputs": [],
   "source": [
    "plt.rcParams[\"font.family\"] = \"serif\"\n",
    "plt.rcParams[\"font.size\"] = 10"
   ]
  },
  {
   "cell_type": "markdown",
   "metadata": {},
   "source": [
    "Parâmetros de entrada\n",
    "------------"
   ]
  },
  {
   "cell_type": "markdown",
   "metadata": {},
   "source": [
    "**Simulation_name**: Nome do prefixo para as simulações. Exemplo: \"simu\". O programa irá percorrer simu1, simu2, simu3, etc."
   ]
  },
  {
   "cell_type": "code",
   "execution_count": 42,
   "metadata": {
    "collapsed": false
   },
   "outputs": [],
   "source": [
    "name_simulation = \"simu\""
   ]
  },
  {
   "cell_type": "markdown",
   "metadata": {},
   "source": [
    "**Last_lines**: Tempo para o cálculo da média. A unidade de tempo é o ano (yr). Refere-se ao tempo final, para se calcular a média dos últimos valores de tempo."
   ]
  },
  {
   "cell_type": "code",
   "execution_count": 43,
   "metadata": {
    "collapsed": false
   },
   "outputs": [],
   "source": [
    "last_values = 100"
   ]
  },
  {
   "cell_type": "markdown",
   "metadata": {},
   "source": [
    "**Objects**: Objetos de interesse na simulação.\n",
    "Cada objeto é marcado por um número. Valores negativos são os planetas valores positivos são as partículas teste. Normalmente são, -2 para Júpiter, -2, para Saturno, e assim por diante. Os respectivos valores de semieixo, excentricidade e inclinação devem ser alterados."
   ]
  },
  {
   "cell_type": "code",
   "execution_count": 44,
   "metadata": {
    "collapsed": false
   },
   "outputs": [],
   "source": [
    "list_obj = [-2, -3, -4, -5]"
   ]
  },
  {
   "cell_type": "markdown",
   "metadata": {},
   "source": [
    "**Semi-axis**: Valores do semieixo, para os objetos de interesse são os valores atuais, colocados num lista, na mesma ordem em que são dados os planetas. A unidade é AU. "
   ]
  },
  {
   "cell_type": "code",
   "execution_count": 45,
   "metadata": {
    "collapsed": false
   },
   "outputs": [],
   "source": [
    "Semi_axis = [5, 9.5, 19, 30]"
   ]
  },
  {
   "cell_type": "markdown",
   "metadata": {},
   "source": [
    "**Eccentricity**: Valores da excentricidade, para os objetos de interesse. São os valores atuais, colocados num lista, na mesma ordem em que são dados os planetas."
   ]
  },
  {
   "cell_type": "code",
   "execution_count": 46,
   "metadata": {
    "collapsed": true
   },
   "outputs": [],
   "source": [
    "Eccentricity = [0.05, 0.06, 0.05, 0.009]"
   ]
  },
  {
   "cell_type": "markdown",
   "metadata": {},
   "source": [
    "**Inclination**: Valores da inclinação, para os objetos de interesse. São os valores atuais, colocados num lista, na mesma ordem em que são dados os planetas. Unidade [deg] "
   ]
  },
  {
   "cell_type": "code",
   "execution_count": 47,
   "metadata": {
    "collapsed": false
   },
   "outputs": [],
   "source": [
    "Inclination = [1.303, 2.489, 0.773, 1.770]"
   ]
  },
  {
   "cell_type": "markdown",
   "metadata": {},
   "source": [
    "**Scale**: Definição da escala para o gráfico com os resultados de todas as simulações. Valores possĩvels são: linear, log"
   ]
  },
  {
   "cell_type": "code",
   "execution_count": 48,
   "metadata": {
    "collapsed": false
   },
   "outputs": [],
   "source": [
    "Scale = \"linear\""
   ]
  },
  {
   "cell_type": "markdown",
   "metadata": {},
   "source": [
    "**Obj_dif_ang**: Objetos para calcular a diferença entre ângulos, Omega ou omega."
   ]
  },
  {
   "cell_type": "code",
   "execution_count": 49,
   "metadata": {
    "collapsed": false
   },
   "outputs": [],
   "source": [
    "Obj_dif_ang = [-2, -3]"
   ]
  },
  {
   "cell_type": "markdown",
   "metadata": {},
   "source": [
    "**Angle_dif**: Quais angulos serão usados para se fazer a diferença.\n",
    "\n",
    "Valores possíveis são:\n",
    "* capom - Longitude do nodo ascendente\n",
    "* omega - Argumento do periapse                          "
   ]
  },
  {
   "cell_type": "code",
   "execution_count": 50,
   "metadata": {
    "collapsed": false
   },
   "outputs": [],
   "source": [
    "Angle_dif = \"capom\""
   ]
  },
  {
   "cell_type": "markdown",
   "metadata": {},
   "source": [
    "Range_angle: Define se o gráfico com a diferença entre ângulos terá uma escala variando entre -180 e 180, ou de 0 a 360.\n",
    "\n",
    "As opções são:\n",
    "* 360 - \"0 - 360\"\n",
    "* 180 - \"-180 - 180\" "
   ]
  },
  {
   "cell_type": "code",
   "execution_count": 51,
   "metadata": {
    "collapsed": false
   },
   "outputs": [],
   "source": [
    "Range_angle = 360"
   ]
  },
  {
   "cell_type": "markdown",
   "metadata": {},
   "source": [
    "**Simulation_dif_ang**: Simulação de interesse para plotar a diferença entre Omega com base na variação numérica após o prefixo: simu001, simu002, etc. Deve-se inserir as aspas."
   ]
  },
  {
   "cell_type": "code",
   "execution_count": 52,
   "metadata": {
    "collapsed": false
   },
   "outputs": [],
   "source": [
    "Simulation_dif_ang = \"002\""
   ]
  },
  {
   "cell_type": "markdown",
   "metadata": {},
   "source": [
    "**headers**: Cabeçalho para ser incluido no dataframe com oas dados de cada planeta"
   ]
  },
  {
   "cell_type": "code",
   "execution_count": 53,
   "metadata": {
    "collapsed": true
   },
   "outputs": [],
   "source": [
    "headers = [\"t\", \"a\", \"e\", \"inc\", \"capom\", \"omega\", \"capm\", \"peri\", \"apo\", \"obar\"]"
   ]
  },
  {
   "cell_type": "markdown",
   "metadata": {},
   "source": [
    "**freq**: Tomará todos os tempos na simulação. O valor 1, usa todas as saídas"
   ]
  },
  {
   "cell_type": "code",
   "execution_count": 54,
   "metadata": {
    "collapsed": true
   },
   "outputs": [],
   "source": [
    "freq = 1"
   ]
  },
  {
   "cell_type": "markdown",
   "metadata": {},
   "source": [
    "Definição dos caminhos\n",
    "----------"
   ]
  },
  {
   "cell_type": "markdown",
   "metadata": {},
   "source": [
    "Diretório da simulação"
   ]
  },
  {
   "cell_type": "code",
   "execution_count": 55,
   "metadata": {
    "collapsed": true
   },
   "outputs": [],
   "source": [
    "simu_path = \"/Users/sandro/Swift/Dados_Simul/\""
   ]
  },
  {
   "cell_type": "markdown",
   "metadata": {},
   "source": [
    "Diretório dos resultados"
   ]
  },
  {
   "cell_type": "code",
   "execution_count": 56,
   "metadata": {
    "collapsed": true
   },
   "outputs": [],
   "source": [
    "result_path = \"/Users/sandro/Swift/Result_terr_simul/\""
   ]
  },
  {
   "cell_type": "markdown",
   "metadata": {},
   "source": [
    "Diretório do Swift"
   ]
  },
  {
   "cell_type": "code",
   "execution_count": 57,
   "metadata": {
    "collapsed": true
   },
   "outputs": [],
   "source": [
    "swift_path = \"/Users/sandro/Swift/\""
   ]
  },
  {
   "cell_type": "markdown",
   "metadata": {},
   "source": [
    "Análise de dados\n",
    "--------"
   ]
  },
  {
   "cell_type": "code",
   "execution_count": 72,
   "metadata": {
    "collapsed": false
   },
   "outputs": [],
   "source": [
    "#Lista dos arquivos de dados da simulação\n",
    "ldir = glob1(simu_path, name_simulation + \"*\")"
   ]
  },
  {
   "cell_type": "code",
   "execution_count": 73,
   "metadata": {
    "collapsed": false
   },
   "outputs": [],
   "source": [
    "#Para cada j em ldir, desloca-se para o diretório em questão e cria o arquivo para o follow\n",
    "for j in ldir:\n",
    "    os.chdir(simu_path + j)\n",
    "    for i in list_obj:\n",
    "        f = open(\"follow.in\", \"w\")\n",
    "        paramet = str(i) + \"\\n\" + str(freq)\n",
    "        f.write(paramet)\n",
    "        f.close()\n",
    "        \n",
    "        path_dat = \"obj_\"+ str(i) + \"_total.dat\"\n",
    "        path_csv = \"obj_\"+ str(i) + \"_total.csv\"\n",
    "        \n",
    "        os.system(\"cp \" + swift_path + \"tools/follow_swift .\")\n",
    "        os.system(\"./follow_swift < follow.in\")\n",
    "        os.system(\"mv follow.out \" + path_dat)\n",
    "        os.system(\"rm follow.in\")\n",
    "        os.system(\"rm follow_swift\")\n",
    "        if not os.path.exists(\"result\"):\n",
    "            os.makedirs(\"result\")\n",
    "        os.system(\"mv \" + path_dat + \" result\")\n",
    "\n",
    "        #Lê o arquivo dat\n",
    "        obj = pd.read_fwf(\"result/\" + path_dat, index_col = False, names = headers)\n",
    "\n",
    "        #Transforma o arquivo em csv\n",
    "        obj.to_csv(\"result/\" + path_csv, index = False)\n",
    "\n",
    "        p = pd.read_csv(\"result/\" + path_csv, index_col = False)\n",
    "        p = p[-last_values:]\n",
    "        p = p.mean()\n",
    "        p = pd.DataFrame(p).T\n",
    "        p.to_csv(\"result/\" + \"obj_\"+ str(i) + \"_mean.csv\" , index = False)\n",
    "        \n",
    "        os.system(\"mv result/ \" + j)\n",
    "        \n",
    "    os.chdir(\"..\")\n"
   ]
  },
  {
   "cell_type": "code",
   "execution_count": 65,
   "metadata": {
    "collapsed": false
   },
   "outputs": [
    {
     "data": {
      "text/plain": [
       "'/Users/sandro/Swift/Dados_Simul'"
      ]
     },
     "execution_count": 65,
     "metadata": {},
     "output_type": "execute_result"
    }
   ],
   "source": [
    "pwd"
   ]
  },
  {
   "cell_type": "code",
   "execution_count": 66,
   "metadata": {
    "collapsed": false
   },
   "outputs": [
    {
     "data": {
      "text/plain": [
       "['simu001', 'simu002', 'simu003', 'simu004']"
      ]
     },
     "execution_count": 66,
     "metadata": {},
     "output_type": "execute_result"
    }
   ],
   "source": [
    "ldir"
   ]
  },
  {
   "cell_type": "code",
   "execution_count": null,
   "metadata": {
    "collapsed": true
   },
   "outputs": [],
   "source": []
  }
 ],
 "metadata": {
  "kernelspec": {
   "display_name": "Python 3",
   "language": "python",
   "name": "python3"
  }
 },
 "nbformat": 4,
 "nbformat_minor": 0
}
